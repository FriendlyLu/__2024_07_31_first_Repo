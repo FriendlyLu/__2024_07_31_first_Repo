{
 "cells": [
  {
   "cell_type": "code",
   "execution_count": 1,
   "metadata": {},
   "outputs": [
    {
     "data": {
      "text/plain": [
       "[3, 6, 9, 12, 15]"
      ]
     },
     "execution_count": 1,
     "metadata": {},
     "output_type": "execute_result"
    }
   ],
   "source": [
    "values = [1, 2, 3, 4, 5]\n",
    "multiply = 3\n",
    "\n",
    "new_values = []\n",
    "for i in values:\n",
    "    new_values.append(i*multiply)\n",
    "\n",
    "new_values"
   ]
  },
  {
   "cell_type": "code",
   "execution_count": 2,
   "metadata": {},
   "outputs": [
    {
     "data": {
      "text/plain": [
       "[3, 6, 9, 12, 15]"
      ]
     },
     "execution_count": 2,
     "metadata": {},
     "output_type": "execute_result"
    }
   ],
   "source": [
    "values = [1, 2, 3, 4, 5]\n",
    "multiply = 3\n",
    "\n",
    "new_values = [i*multiply for i in values]\n",
    "new_values"
   ]
  },
  {
   "cell_type": "code",
   "execution_count": 6,
   "metadata": {},
   "outputs": [
    {
     "data": {
      "text/plain": [
       "array([ 3,  6,  9, 12, 15])"
      ]
     },
     "execution_count": 6,
     "metadata": {},
     "output_type": "execute_result"
    }
   ],
   "source": [
    "import numpy as np\n",
    "values_array = np.array([1, 2, 3, 4, 5])\n",
    "multiply = 3\n",
    "values_array * multiply"
   ]
  },
  {
   "cell_type": "code",
   "execution_count": 10,
   "metadata": {},
   "outputs": [
    {
     "data": {
      "text/plain": [
       "array([ 3.14159, 12.56636, 28.27431, 50.26544, 78.53975])"
      ]
     },
     "execution_count": 10,
     "metadata": {},
     "output_type": "execute_result"
    }
   ],
   "source": [
    "import numpy as np\n",
    "values_array = np.array([1, 2, 3, 4, 5])\n",
    "multiply = 3\n",
    "values_array * multiply\n",
    "values_array ** 2 * 3.14159"
   ]
  },
  {
   "cell_type": "code",
   "execution_count": 11,
   "metadata": {},
   "outputs": [
    {
     "data": {
      "text/plain": [
       "array([[78, 71, 51, 86, 72],\n",
       "       [74, 84, 99, 98, 81],\n",
       "       [77, 55, 78, 61, 88],\n",
       "       [53, 51, 96, 71, 52],\n",
       "       [89, 64, 67, 70, 80],\n",
       "       [64, 65, 58, 79, 98],\n",
       "       [53, 50, 69, 83, 72],\n",
       "       [86, 72, 71, 79, 76],\n",
       "       [57, 87, 69, 60, 71],\n",
       "       [72, 65, 87, 79, 55],\n",
       "       [63, 79, 97, 81, 55],\n",
       "       [78, 73, 71, 84, 52],\n",
       "       [99, 78, 97, 57, 84],\n",
       "       [95, 77, 92, 73, 81],\n",
       "       [96, 62, 96, 88, 91],\n",
       "       [89, 73, 51, 77, 68],\n",
       "       [82, 67, 74, 64, 64],\n",
       "       [99, 51, 71, 63, 56],\n",
       "       [59, 54, 83, 79, 50],\n",
       "       [52, 68, 90, 93, 50],\n",
       "       [91, 89, 96, 66, 98],\n",
       "       [95, 69, 56, 83, 69],\n",
       "       [81, 93, 71, 90, 55],\n",
       "       [64, 79, 56, 58, 72],\n",
       "       [90, 55, 85, 94, 93],\n",
       "       [77, 66, 75, 70, 61],\n",
       "       [68, 59, 83, 78, 83],\n",
       "       [93, 82, 96, 94, 96],\n",
       "       [97, 52, 91, 83, 77],\n",
       "       [86, 84, 62, 72, 81],\n",
       "       [57, 99, 80, 67, 89],\n",
       "       [66, 96, 60, 58, 61],\n",
       "       [88, 72, 58, 84, 79],\n",
       "       [74, 83, 98, 92, 69],\n",
       "       [59, 52, 86, 62, 68],\n",
       "       [95, 52, 81, 51, 99],\n",
       "       [65, 66, 68, 99, 56],\n",
       "       [73, 97, 52, 56, 96],\n",
       "       [82, 54, 76, 58, 60],\n",
       "       [51, 87, 64, 69, 92],\n",
       "       [69, 99, 97, 99, 68],\n",
       "       [90, 74, 67, 98, 90],\n",
       "       [55, 51, 96, 51, 65],\n",
       "       [67, 89, 53, 93, 54],\n",
       "       [71, 62, 96, 50, 57],\n",
       "       [90, 93, 99, 92, 51],\n",
       "       [84, 50, 67, 67, 66],\n",
       "       [80, 79, 81, 60, 99],\n",
       "       [73, 65, 75, 61, 79],\n",
       "       [82, 58, 70, 56, 79]])"
      ]
     },
     "execution_count": 11,
     "metadata": {},
     "output_type": "execute_result"
    }
   ],
   "source": [
    "import numpy as np\n",
    "np.random.randint(50,100,size=(50,5))"
   ]
  }
 ],
 "metadata": {
  "kernelspec": {
   "display_name": "Python 3",
   "language": "python",
   "name": "python3"
  },
  "language_info": {
   "codemirror_mode": {
    "name": "ipython",
    "version": 3
   },
   "file_extension": ".py",
   "mimetype": "text/x-python",
   "name": "python",
   "nbconvert_exporter": "python",
   "pygments_lexer": "ipython3",
   "version": "3.11.9"
  }
 },
 "nbformat": 4,
 "nbformat_minor": 2
}
