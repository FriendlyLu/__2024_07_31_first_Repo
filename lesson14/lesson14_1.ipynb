{
 "cells": [
  {
   "cell_type": "code",
   "execution_count": 1,
   "metadata": {},
   "outputs": [
    {
     "data": {
      "text/plain": [
       "(5, 7)"
      ]
     },
     "execution_count": 1,
     "metadata": {},
     "output_type": "execute_result"
    }
   ],
   "source": [
    "(5, 7)"
   ]
  },
  {
   "cell_type": "code",
   "execution_count": 2,
   "metadata": {},
   "outputs": [
    {
     "data": {
      "text/plain": [
       "(5, 7)"
      ]
     },
     "execution_count": 2,
     "metadata": {},
     "output_type": "execute_result"
    }
   ],
   "source": [
    "5, 7"
   ]
  },
  {
   "cell_type": "code",
   "execution_count": 4,
   "metadata": {},
   "outputs": [
    {
     "data": {
      "text/plain": [
       "(5,)"
      ]
     },
     "execution_count": 4,
     "metadata": {},
     "output_type": "execute_result"
    }
   ],
   "source": [
    "(5, )"
   ]
  },
  {
   "cell_type": "code",
   "execution_count": 5,
   "metadata": {},
   "outputs": [
    {
     "data": {
      "text/plain": [
       "[1, 3, 5, 7, 9, 3, 5, 6, 7, 9]"
      ]
     },
     "execution_count": 5,
     "metadata": {},
     "output_type": "execute_result"
    }
   ],
   "source": [
    "list_a = [1, 3, 5, 7, 9]\n",
    "list_b = [3, 5, 6, 7, 9]\n",
    "list_a+ list_b"
   ]
  },
  {
   "cell_type": "code",
   "execution_count": 8,
   "metadata": {},
   "outputs": [
    {
     "data": {
      "text/plain": [
       "array([ 4,  8, 11, 14, 18])"
      ]
     },
     "execution_count": 8,
     "metadata": {},
     "output_type": "execute_result"
    }
   ],
   "source": [
    "import numpy as np\n",
    "array_a = np.array([1, 3, 5, 7, 9])\n",
    "array_b = np.array([3, 5, 6, 7, 9])\n",
    "type(array_a)\n",
    "array_a + array_b"
   ]
  },
  {
   "cell_type": "code",
   "execution_count": 9,
   "metadata": {},
   "outputs": [
    {
     "data": {
      "text/plain": [
       "([1, 2, 3], [2, 3, 4])"
      ]
     },
     "execution_count": 9,
     "metadata": {},
     "output_type": "execute_result"
    }
   ],
   "source": [
    "import numpy as np\n",
    "\n",
    "[1, 2, 3], [2, 3, 4]"
   ]
  },
  {
   "cell_type": "code",
   "execution_count": 12,
   "metadata": {},
   "outputs": [
    {
     "data": {
      "text/plain": [
       "(2, (2, 3), 6, dtype('int64'))"
      ]
     },
     "execution_count": 12,
     "metadata": {},
     "output_type": "execute_result"
    }
   ],
   "source": [
    "import numpy as np\n",
    "\n",
    "l = [[1, 2, 3], [2, 3, 4]]\n",
    "array = np.array(l)\n",
    "array.ndim, array.shape, array.size, array.dtype"
   ]
  },
  {
   "cell_type": "code",
   "execution_count": 13,
   "metadata": {},
   "outputs": [
    {
     "data": {
      "text/plain": [
       "array([[ 0.53973063,  0.56015684, -1.46759404,  0.34589758, -0.33524903],\n",
       "       [ 0.57921555,  0.75370986,  0.68987435,  0.71361914,  0.3254653 ],\n",
       "       [ 0.60055237, -0.03066355,  0.84673267,  0.78116482,  0.64359537],\n",
       "       [-0.6643706 , -0.19752882,  0.37730379, -0.87016398,  0.75636795],\n",
       "       [-0.01960191, -0.56012922,  1.08095354,  0.96302241,  0.91801439],\n",
       "       [ 0.00859323,  0.4593865 ,  0.74003772, -1.88072027,  0.5911561 ],\n",
       "       [-0.9832764 ,  0.54875804, -0.31180021, -0.12324519,  0.19724408],\n",
       "       [ 1.55216317,  0.87625408,  1.5849942 ,  1.20142955,  0.52984242],\n",
       "       [ 0.87644412,  0.73118949,  1.03955802,  0.77575667, -1.50028443],\n",
       "       [ 1.07245514,  0.75126555,  1.04521285,  0.73404785, -0.94511331]])"
      ]
     },
     "execution_count": 13,
     "metadata": {},
     "output_type": "execute_result"
    }
   ],
   "source": [
    "import numpy as np\n",
    "np.random.randn(10, 5)\n"
   ]
  },
  {
   "cell_type": "code",
   "execution_count": 23,
   "metadata": {},
   "outputs": [
    {
     "data": {
      "text/plain": [
       "array([[ 75,  67,  52,  50,  93],\n",
       "       [ 86,  62,  94,  95,  89],\n",
       "       [ 58,  80,  79,  58,  84],\n",
       "       [ 96,  88,  94,  73,  52],\n",
       "       [ 92,  73,  94,  65,  77],\n",
       "       [ 86,  66,  92,  77,  50],\n",
       "       [ 96,  76,  96,  70,  59],\n",
       "       [ 77,  89,  98,  92,  73],\n",
       "       [ 90,  71,  93,  68,  56],\n",
       "       [100,  81,  61,  95,  77],\n",
       "       [ 71,  93,  98,  54,  64],\n",
       "       [ 66,  64,  60,  91,  71],\n",
       "       [ 73,  72,  56,  99,  67],\n",
       "       [ 85,  99,  53,  72,  77],\n",
       "       [ 57,  87,  92, 100,  71],\n",
       "       [ 50, 100,  90,  50,  62],\n",
       "       [ 55,  76,  52,  65,  88],\n",
       "       [ 85,  98,  59,  76,  65],\n",
       "       [ 50,  76,  81,  81,  52],\n",
       "       [ 86,  97,  56,  64,  88],\n",
       "       [ 86,  98,  79,  76,  67],\n",
       "       [ 71,  86,  60,  56,  84],\n",
       "       [ 56,  80,  91,  63,  57],\n",
       "       [ 76,  88,  76,  63,  80],\n",
       "       [100,  74,  86,  84,  88],\n",
       "       [ 78,  60,  94,  97,  93],\n",
       "       [ 55,  84,  53,  68,  86],\n",
       "       [ 85,  65,  65,  82,  61],\n",
       "       [ 58,  57,  50,  89,  65],\n",
       "       [ 66,  50,  73,  76,  83],\n",
       "       [ 74,  81,  90,  93,  76],\n",
       "       [ 69,  92,  90,  76,  86],\n",
       "       [ 79,  80,  65,  78,  67],\n",
       "       [ 92,  61,  50,  99,  70],\n",
       "       [ 84, 100,  61,  65,  82],\n",
       "       [ 63,  80,  92,  53,  54],\n",
       "       [ 89,  57,  54,  50,  77],\n",
       "       [ 63,  99,  83,  73,  56],\n",
       "       [ 70,  99,  81,  61,  83],\n",
       "       [ 86,  55,  60,  59,  65],\n",
       "       [ 70,  51,  57,  69,  73],\n",
       "       [ 67,  54,  63,  53,  77],\n",
       "       [ 54,  74,  50,  65,  96],\n",
       "       [ 92,  71,  65,  62,  66],\n",
       "       [ 99,  85,  93,  98,  93],\n",
       "       [ 96,  63,  70,  62,  70],\n",
       "       [ 65,  50,  88,  84,  86],\n",
       "       [ 55,  90,  79,  98,  90],\n",
       "       [ 56,  68,  81,  86,  75],\n",
       "       [ 98,  60,  63,  61,  63]])"
      ]
     },
     "execution_count": 23,
     "metadata": {},
     "output_type": "execute_result"
    }
   ],
   "source": [
    "#50個學生, 每個學生有五個分數(50-100)\n",
    "import numpy as np\n",
    "scores = np.random.randint(50, 101, size = (50, 5)) # 101 不包含\n",
    "scores"
   ]
  },
  {
   "cell_type": "code",
   "execution_count": 31,
   "metadata": {},
   "outputs": [
    {
     "data": {
      "text/plain": [
       "array([[96, 63, 70, 62, 70],\n",
       "       [65, 50, 88, 84, 86],\n",
       "       [55, 90, 79, 98, 90],\n",
       "       [56, 68, 81, 86, 75],\n",
       "       [98, 60, 63, 61, 63]])"
      ]
     },
     "execution_count": 31,
     "metadata": {},
     "output_type": "execute_result"
    }
   ],
   "source": [
    "#50個學生, 每個學生有五個分數(50-100)\n",
    "#第一個學生\n",
    "scores[0,:]\n",
    "#前五個學生\n",
    "scores[:5, :]\n",
    "# #最後五個學生\n",
    "scores[-5:, :]"
   ]
  },
  {
   "cell_type": "code",
   "execution_count": 32,
   "metadata": {},
   "outputs": [
    {
     "data": {
      "text/plain": [
       "array([ 75,  86,  58,  96,  92,  86,  96,  77,  90, 100,  71,  66,  73,\n",
       "        85,  57,  50,  55,  85,  50,  86,  86,  71,  56,  76, 100,  78,\n",
       "        55,  85,  58,  66,  74,  69,  79,  92,  84,  63,  89,  63,  70,\n",
       "        86,  70,  67,  54,  92,  99,  96,  65,  55,  56,  98])"
      ]
     },
     "execution_count": 32,
     "metadata": {},
     "output_type": "execute_result"
    }
   ],
   "source": [
    "#全班第一科的分數\n",
    "scores[:, 0]"
   ]
  },
  {
   "cell_type": "code",
   "execution_count": 26,
   "metadata": {},
   "outputs": [
    {
     "data": {
      "text/plain": [
       "array([ 67,  62,  80,  88,  73,  66,  76,  89,  71,  81,  93,  64,  72,\n",
       "        99,  87, 100,  76,  98,  76,  97,  98,  86,  80,  88,  74,  60,\n",
       "        84,  65,  57,  50,  81,  92,  80,  61, 100,  80,  57,  99,  99,\n",
       "        55,  51,  54,  74,  71,  85,  63,  50,  90,  68,  60])"
      ]
     },
     "execution_count": 26,
     "metadata": {},
     "output_type": "execute_result"
    }
   ],
   "source": [
    "#全班第二科的分數\n",
    "scores[:, 1]"
   ]
  },
  {
   "cell_type": "code",
   "execution_count": 28,
   "metadata": {},
   "outputs": [
    {
     "data": {
      "text/plain": [
       "array([337, 426, 359, 403, 401, 371, 397, 429, 378, 414, 380, 352, 367,\n",
       "       386, 407, 352, 336, 383, 340, 391, 406, 357, 347, 383, 432, 422,\n",
       "       346, 358, 319, 348, 414, 413, 369, 372, 392, 342, 327, 374, 394,\n",
       "       325, 320, 314, 339, 356, 468, 361, 373, 412, 366, 345])"
      ]
     },
     "execution_count": 28,
     "metadata": {},
     "output_type": "execute_result"
    }
   ],
   "source": [
    "#每位學生的總分\n",
    "total = scores[:, 0] + scores[:, 1] + scores[:, 2] + scores[:, 3] + scores[:, 4]\n",
    "total"
   ]
  },
  {
   "cell_type": "code",
   "execution_count": 33,
   "metadata": {},
   "outputs": [
    {
     "data": {
      "text/plain": [
       "array([337, 426, 359, 403, 401, 371, 397, 429, 378, 414, 380, 352, 367,\n",
       "       386, 407, 352, 336, 383, 340, 391, 406, 357, 347, 383, 432, 422,\n",
       "       346, 358, 319, 348, 414, 413, 369, 372, 392, 342, 327, 374, 394,\n",
       "       325, 320, 314, 339, 356, 468, 361, 373, 412, 366, 345])"
      ]
     },
     "execution_count": 33,
     "metadata": {},
     "output_type": "execute_result"
    }
   ],
   "source": [
    "#使用統計的方法\n",
    "#美個學生總分\n",
    "np.sum(scores, axis = 1)"
   ]
  },
  {
   "cell_type": "code",
   "execution_count": 35,
   "metadata": {},
   "outputs": [
    {
     "data": {
      "text/plain": [
       "array([67.4, 85.2, 71.8, 80.6, 80.2, 74.2, 79.4, 85.8, 75.6, 82.8, 76. ,\n",
       "       70.4, 73.4, 77.2, 81.4, 70.4, 67.2, 76.6, 68. , 78.2, 81.2, 71.4,\n",
       "       69.4, 76.6, 86.4, 84.4, 69.2, 71.6, 63.8, 69.6, 82.8, 82.6, 73.8,\n",
       "       74.4, 78.4, 68.4, 65.4, 74.8, 78.8, 65. , 64. , 62.8, 67.8, 71.2,\n",
       "       93.6, 72.2, 74.6, 82.4, 73.2, 69. ])"
      ]
     },
     "execution_count": 35,
     "metadata": {},
     "output_type": "execute_result"
    }
   ],
   "source": [
    "#每個學生平均\n",
    "np.mean(scores, axis=1)\n"
   ]
  }
 ],
 "metadata": {
  "kernelspec": {
   "display_name": "Python 3",
   "language": "python",
   "name": "python3"
  },
  "language_info": {
   "codemirror_mode": {
    "name": "ipython",
    "version": 3
   },
   "file_extension": ".py",
   "mimetype": "text/x-python",
   "name": "python",
   "nbconvert_exporter": "python",
   "pygments_lexer": "ipython3",
   "version": "3.11.9"
  }
 },
 "nbformat": 4,
 "nbformat_minor": 2
}
