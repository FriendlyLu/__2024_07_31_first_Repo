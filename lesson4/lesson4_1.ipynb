{
 "cells": [
  {
   "cell_type": "code",
   "execution_count": 8,
   "metadata": {},
   "outputs": [
    {
     "name": "stdout",
     "output_type": "stream",
     "text": [
      "不可以考駕照\n",
      "學生分數是: 268\n"
     ]
    }
   ],
   "source": [
    "import math\n",
    "\n",
    "age = 17\n",
    "age >= 18\n",
    "\n",
    "\n",
    "if (age >= 18):\n",
    "    print(\"可以考駕照\")\n",
    "else:\n",
    "    print(\"不可以考駕照\")\n",
    "\n",
    "nScore = int(input(\"請輸入分數(最高300分):\"))\n",
    "strIsAdd = input(\"學生是否符合加分條件?(y,n)\")\n",
    "\n",
    "if (strIsAdd == \"y\"):\n",
    "    nScore *= 1.05\n",
    "    nScore = math.ceil(nScore)\n",
    "\n",
    "print(f\"學生分數是: {nScore}\")\n"
   ]
  }
 ],
 "metadata": {
  "kernelspec": {
   "display_name": "Python 3",
   "language": "python",
   "name": "python3"
  },
  "language_info": {
   "codemirror_mode": {
    "name": "ipython",
    "version": 3
   },
   "file_extension": ".py",
   "mimetype": "text/x-python",
   "name": "python",
   "nbconvert_exporter": "python",
   "pygments_lexer": "ipython3",
   "version": "3.11.9"
  }
 },
 "nbformat": 4,
 "nbformat_minor": 2
}
