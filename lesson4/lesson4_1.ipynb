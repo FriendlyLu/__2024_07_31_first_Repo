{
 "cells": [
  {
   "cell_type": "code",
   "execution_count": 27,
   "metadata": {},
   "outputs": [
    {
     "name": "stdout",
     "output_type": "stream",
     "text": [
      "學生分數是: 263\n",
      "應用程式結束\n"
     ]
    }
   ],
   "source": [
    "import math\n",
    "\n",
    "try:\n",
    "    nScore = int(input(\"請輸入分數(最高300分):\"))\n",
    "\n",
    "    if (nScore > 300):\n",
    "        raise Exception\n",
    "    \n",
    "    if (nScore < 0):\n",
    "        raise Exception\n",
    "    \n",
    "    strIsAdd = input(\"學生是否符合加分條件?(y,n)\")\n",
    "\n",
    "    if (strIsAdd == \"y\"):\n",
    "        nScore *= 1.05\n",
    "        nScore = math.ceil(nScore)\n",
    "        if (nScore > 300):\n",
    "            nScore = 300\n",
    "\n",
    "    print(f\"學生分數是: {nScore}\")\n",
    "\n",
    "except ValueError:\n",
    "    print(\"輸入格式錯誤\")\n",
    "except Exception:\n",
    "    print(\"超出範圍\")\n",
    "\n",
    "print(\"應用程式結束\")\n",
    "\n",
    "\n"
   ]
  },
  {
   "cell_type": "code",
   "execution_count": 28,
   "metadata": {},
   "outputs": [
    {
     "name": "stdout",
     "output_type": "stream",
     "text": [
      "不可以考駕照\n"
     ]
    }
   ],
   "source": [
    "age = 17\n",
    "age >= 18\n",
    "\n",
    "\n",
    "if (age >= 18):\n",
    "    print(\"可以考駕照\")\n",
    "else:\n",
    "    print(\"不可以考駕照\")"
   ]
  }
 ],
 "metadata": {
  "kernelspec": {
   "display_name": "Python 3",
   "language": "python",
   "name": "python3"
  },
  "language_info": {
   "codemirror_mode": {
    "name": "ipython",
    "version": 3
   },
   "file_extension": ".py",
   "mimetype": "text/x-python",
   "name": "python",
   "nbconvert_exporter": "python",
   "pygments_lexer": "ipython3",
   "version": "3.11.9"
  }
 },
 "nbformat": 4,
 "nbformat_minor": 2
}
