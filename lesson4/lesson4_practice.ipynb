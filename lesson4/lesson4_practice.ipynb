{
 "cells": [
  {
   "cell_type": "code",
   "execution_count": 4,
   "metadata": {},
   "outputs": [
    {
     "name": "stdout",
     "output_type": "stream",
     "text": [
      "體重輸入錯誤\n",
      "程式結束\n"
     ]
    }
   ],
   "source": [
    "name = input(\"請輸入姓名: \")\n",
    "\n",
    "try:\n",
    "    height = float(input(\"請輸入身高(cm): \"))\n",
    "\n",
    "    if (height <= 0):\n",
    "        raise ValueError\n",
    "except ValueError:\n",
    "    print(\"身高輸入錯誤\")\n",
    "else:\n",
    "    try:\n",
    "        weight = float(input(\"請輸體重(kg): \"))\n",
    "\n",
    "        if (weight <= 0):\n",
    "            raise ValueError\n",
    "    except ValueError:\n",
    "        print(\"體重輸入錯誤\")\n",
    "    else:\n",
    "        BMI = weight / (height * 0.01) ** 2\n",
    "\n",
    "        if (BMI < 18.5):\n",
    "            weight_result = \"體重過輕\"\n",
    "        elif (BMI < 24):\n",
    "            weight_result = \"正常範圍\"\n",
    "        elif (BMI < 27):\n",
    "            weight_result = \"過重\"\n",
    "        elif (BMI < 30):\n",
    "            weight_result = \"輕度肥胖\"\n",
    "        elif (BMI < 35):\n",
    "            weight_result = \"中度肥胖\"\n",
    "        else:\n",
    "            weight_result = \"重度肥胖\"\n",
    "\n",
    "        print(f\"{name}您好\")\n",
    "        print(f\"BMI值是: {round(BMI, ndigits= 2)}\")\n",
    "        print(f\"體重: {weight_result}\")\n",
    "\n",
    "print(\"程式結束\")"
   ]
  }
 ],
 "metadata": {
  "kernelspec": {
   "display_name": "Python 3",
   "language": "python",
   "name": "python3"
  },
  "language_info": {
   "codemirror_mode": {
    "name": "ipython",
    "version": 3
   },
   "file_extension": ".py",
   "mimetype": "text/x-python",
   "name": "python",
   "nbconvert_exporter": "python",
   "pygments_lexer": "ipython3",
   "version": "3.11.9"
  }
 },
 "nbformat": 4,
 "nbformat_minor": 2
}
