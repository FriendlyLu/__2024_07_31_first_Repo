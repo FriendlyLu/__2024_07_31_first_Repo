{
 "cells": [
  {
   "cell_type": "code",
   "execution_count": 15,
   "metadata": {},
   "outputs": [
    {
     "name": "stderr",
     "output_type": "stream",
     "text": [
      "[*********************100%***********************]  1 of 1 completed\n",
      "[*********************100%***********************]  1 of 1 completed\n",
      "[*********************100%***********************]  1 of 1 completed\n",
      "[*********************100%***********************]  1 of 1 completed\n"
     ]
    }
   ],
   "source": [
    "#請產生2023年,以下金控公司,最高收盤價,最低收盤價,最高收盤價日期,最低收盤價日期\n",
    "#提示,max(),min(),idxmin(),idxmax()\n",
    "\n",
    "import yfinance as yf\n",
    "import pandas as pd\n",
    "\n",
    "#國泰金(2882.TW),新光金(2888.TW),中信金(2891.TW),台新金(2887.TW)\n",
    "all_data = {ticker:yf.download(ticker) for ticker in ['2882.TW','2888.TW','2891.TW','2887.TW']}"
   ]
  },
  {
   "cell_type": "code",
   "execution_count": 16,
   "metadata": {},
   "outputs": [
    {
     "data": {
      "text/html": [
       "<div>\n",
       "<style scoped>\n",
       "    .dataframe tbody tr th:only-of-type {\n",
       "        vertical-align: middle;\n",
       "    }\n",
       "\n",
       "    .dataframe tbody tr th {\n",
       "        vertical-align: top;\n",
       "    }\n",
       "\n",
       "    .dataframe thead th {\n",
       "        text-align: right;\n",
       "    }\n",
       "</style>\n",
       "<table border=\"1\" class=\"dataframe\">\n",
       "  <thead>\n",
       "    <tr style=\"text-align: right;\">\n",
       "      <th></th>\n",
       "      <th>國泰金</th>\n",
       "      <th>新光金</th>\n",
       "      <th>中信金</th>\n",
       "      <th>台新金</th>\n",
       "    </tr>\n",
       "    <tr>\n",
       "      <th>Date</th>\n",
       "      <th></th>\n",
       "      <th></th>\n",
       "      <th></th>\n",
       "      <th></th>\n",
       "    </tr>\n",
       "  </thead>\n",
       "  <tbody>\n",
       "    <tr>\n",
       "      <th>2023-01-03</th>\n",
       "      <td>37.808990</td>\n",
       "      <td>8.80</td>\n",
       "      <td>20.349007</td>\n",
       "      <td>13.100577</td>\n",
       "    </tr>\n",
       "    <tr>\n",
       "      <th>2023-01-04</th>\n",
       "      <td>37.808990</td>\n",
       "      <td>8.80</td>\n",
       "      <td>20.532745</td>\n",
       "      <td>13.187336</td>\n",
       "    </tr>\n",
       "    <tr>\n",
       "      <th>2023-01-05</th>\n",
       "      <td>38.092911</td>\n",
       "      <td>8.88</td>\n",
       "      <td>20.762419</td>\n",
       "      <td>13.360855</td>\n",
       "    </tr>\n",
       "    <tr>\n",
       "      <th>2023-01-06</th>\n",
       "      <td>38.566116</td>\n",
       "      <td>8.88</td>\n",
       "      <td>20.762419</td>\n",
       "      <td>13.317475</td>\n",
       "    </tr>\n",
       "    <tr>\n",
       "      <th>2023-01-09</th>\n",
       "      <td>39.749123</td>\n",
       "      <td>8.96</td>\n",
       "      <td>21.267698</td>\n",
       "      <td>13.577751</td>\n",
       "    </tr>\n",
       "    <tr>\n",
       "      <th>...</th>\n",
       "      <td>...</td>\n",
       "      <td>...</td>\n",
       "      <td>...</td>\n",
       "      <td>...</td>\n",
       "    </tr>\n",
       "    <tr>\n",
       "      <th>2023-12-25</th>\n",
       "      <td>43.329659</td>\n",
       "      <td>8.69</td>\n",
       "      <td>26.602892</td>\n",
       "      <td>16.547298</td>\n",
       "    </tr>\n",
       "    <tr>\n",
       "      <th>2023-12-26</th>\n",
       "      <td>43.667797</td>\n",
       "      <td>8.77</td>\n",
       "      <td>26.746174</td>\n",
       "      <td>16.640261</td>\n",
       "    </tr>\n",
       "    <tr>\n",
       "      <th>2023-12-27</th>\n",
       "      <td>43.909325</td>\n",
       "      <td>8.87</td>\n",
       "      <td>26.841698</td>\n",
       "      <td>16.686743</td>\n",
       "    </tr>\n",
       "    <tr>\n",
       "      <th>2023-12-28</th>\n",
       "      <td>44.247456</td>\n",
       "      <td>8.88</td>\n",
       "      <td>27.128262</td>\n",
       "      <td>16.826187</td>\n",
       "    </tr>\n",
       "    <tr>\n",
       "      <th>2023-12-29</th>\n",
       "      <td>44.199154</td>\n",
       "      <td>8.85</td>\n",
       "      <td>27.080502</td>\n",
       "      <td>16.826187</td>\n",
       "    </tr>\n",
       "  </tbody>\n",
       "</table>\n",
       "<p>239 rows × 4 columns</p>\n",
       "</div>"
      ],
      "text/plain": [
       "                  國泰金   新光金        中信金        台新金\n",
       "Date                                             \n",
       "2023-01-03  37.808990  8.80  20.349007  13.100577\n",
       "2023-01-04  37.808990  8.80  20.532745  13.187336\n",
       "2023-01-05  38.092911  8.88  20.762419  13.360855\n",
       "2023-01-06  38.566116  8.88  20.762419  13.317475\n",
       "2023-01-09  39.749123  8.96  21.267698  13.577751\n",
       "...               ...   ...        ...        ...\n",
       "2023-12-25  43.329659  8.69  26.602892  16.547298\n",
       "2023-12-26  43.667797  8.77  26.746174  16.640261\n",
       "2023-12-27  43.909325  8.87  26.841698  16.686743\n",
       "2023-12-28  44.247456  8.88  27.128262  16.826187\n",
       "2023-12-29  44.199154  8.85  27.080502  16.826187\n",
       "\n",
       "[239 rows x 4 columns]"
      ]
     },
     "execution_count": 16,
     "metadata": {},
     "output_type": "execute_result"
    }
   ],
   "source": [
    "all_data1 = {ticker:df['Adj Close'] for ticker,df in all_data.items()}\n",
    "prices_df = pd.DataFrame(all_data1)\n",
    "prices_df.columns = ['國泰金','新光金','中信金','台新金']\n",
    "prices_df1 = prices_df.dropna()\n",
    "prices_df1_2023 = prices_df1.loc['2023']\n",
    "prices_df1_2023"
   ]
  },
  {
   "cell_type": "code",
   "execution_count": 32,
   "metadata": {},
   "outputs": [
    {
     "data": {
      "text/html": [
       "<div>\n",
       "<style scoped>\n",
       "    .dataframe tbody tr th:only-of-type {\n",
       "        vertical-align: middle;\n",
       "    }\n",
       "\n",
       "    .dataframe tbody tr th {\n",
       "        vertical-align: top;\n",
       "    }\n",
       "\n",
       "    .dataframe thead th {\n",
       "        text-align: right;\n",
       "    }\n",
       "</style>\n",
       "<table border=\"1\" class=\"dataframe\">\n",
       "  <thead>\n",
       "    <tr style=\"text-align: right;\">\n",
       "      <th></th>\n",
       "      <th>國泰金</th>\n",
       "      <th>新光金</th>\n",
       "      <th>中信金</th>\n",
       "      <th>台新金</th>\n",
       "    </tr>\n",
       "  </thead>\n",
       "  <tbody>\n",
       "    <tr>\n",
       "      <th>最高價</th>\n",
       "      <td>45.648304</td>\n",
       "      <td>9.83</td>\n",
       "      <td>27.176025</td>\n",
       "      <td>17.105072</td>\n",
       "    </tr>\n",
       "    <tr>\n",
       "      <th>最低價</th>\n",
       "      <td>37.808990</td>\n",
       "      <td>7.99</td>\n",
       "      <td>19.154709</td>\n",
       "      <td>13.100577</td>\n",
       "    </tr>\n",
       "  </tbody>\n",
       "</table>\n",
       "</div>"
      ],
      "text/plain": [
       "           國泰金   新光金        中信金        台新金\n",
       "最高價  45.648304  9.83  27.176025  17.105072\n",
       "最低價  37.808990  7.99  19.154709  13.100577"
      ]
     },
     "execution_count": 32,
     "metadata": {},
     "output_type": "execute_result"
    }
   ],
   "source": [
    "def call(s):\n",
    "    min = s.max()\n",
    "    max = s.min()\n",
    "    return pd.Series([min, max],index=['最高價','最低價'])\n",
    "\n",
    "df_high_low_value = prices_df1_2023.apply(call)\n",
    "df_high_low_value"
   ]
  },
  {
   "cell_type": "code",
   "execution_count": 49,
   "metadata": {},
   "outputs": [
    {
     "data": {
      "text/plain": [
       "國泰金   2023-01-03\n",
       "新光金   2023-03-20\n",
       "中信金   2023-03-17\n",
       "台新金   2023-01-03\n",
       "dtype: datetime64[ns]"
      ]
     },
     "execution_count": 49,
     "metadata": {},
     "output_type": "execute_result"
    }
   ],
   "source": [
    "\n",
    "series1 = prices_df1_2023.idxmin()\n",
    "#type(series1)\n",
    "series1\n",
    "#df_low_date = pd.DataFrame([series1], index=['最低價日期']).astype(str)\n",
    "#df_low_date\n"
   ]
  },
  {
   "cell_type": "code",
   "execution_count": 43,
   "metadata": {},
   "outputs": [
    {
     "data": {
      "text/html": [
       "<div>\n",
       "<style scoped>\n",
       "    .dataframe tbody tr th:only-of-type {\n",
       "        vertical-align: middle;\n",
       "    }\n",
       "\n",
       "    .dataframe tbody tr th {\n",
       "        vertical-align: top;\n",
       "    }\n",
       "\n",
       "    .dataframe thead th {\n",
       "        text-align: right;\n",
       "    }\n",
       "</style>\n",
       "<table border=\"1\" class=\"dataframe\">\n",
       "  <thead>\n",
       "    <tr style=\"text-align: right;\">\n",
       "      <th></th>\n",
       "      <th>國泰金</th>\n",
       "      <th>新光金</th>\n",
       "      <th>中信金</th>\n",
       "      <th>台新金</th>\n",
       "    </tr>\n",
       "  </thead>\n",
       "  <tbody>\n",
       "    <tr>\n",
       "      <th>最高價日期</th>\n",
       "      <td>2023-08-01</td>\n",
       "      <td>2023-08-01</td>\n",
       "      <td>2023-12-14</td>\n",
       "      <td>2023-07-26</td>\n",
       "    </tr>\n",
       "  </tbody>\n",
       "</table>\n",
       "</div>"
      ],
      "text/plain": [
       "              國泰金         新光金         中信金         台新金\n",
       "最高價日期  2023-08-01  2023-08-01  2023-12-14  2023-07-26"
      ]
     },
     "execution_count": 43,
     "metadata": {},
     "output_type": "execute_result"
    }
   ],
   "source": [
    "series2 = prices_df1_2023.idxmax()\n",
    "df_high_date = pd.DataFrame([series2], index=['最高價日期']).astype(str)\n",
    "#df_high_date"
   ]
  },
  {
   "cell_type": "code",
   "execution_count": 45,
   "metadata": {},
   "outputs": [
    {
     "data": {
      "text/html": [
       "<div>\n",
       "<style scoped>\n",
       "    .dataframe tbody tr th:only-of-type {\n",
       "        vertical-align: middle;\n",
       "    }\n",
       "\n",
       "    .dataframe tbody tr th {\n",
       "        vertical-align: top;\n",
       "    }\n",
       "\n",
       "    .dataframe thead th {\n",
       "        text-align: right;\n",
       "    }\n",
       "</style>\n",
       "<table border=\"1\" class=\"dataframe\">\n",
       "  <thead>\n",
       "    <tr style=\"text-align: right;\">\n",
       "      <th></th>\n",
       "      <th>國泰金</th>\n",
       "      <th>新光金</th>\n",
       "      <th>中信金</th>\n",
       "      <th>台新金</th>\n",
       "    </tr>\n",
       "  </thead>\n",
       "  <tbody>\n",
       "    <tr>\n",
       "      <th>最高價</th>\n",
       "      <td>45.648304</td>\n",
       "      <td>9.83</td>\n",
       "      <td>27.176025</td>\n",
       "      <td>17.105072</td>\n",
       "    </tr>\n",
       "    <tr>\n",
       "      <th>最低價</th>\n",
       "      <td>37.80899</td>\n",
       "      <td>7.99</td>\n",
       "      <td>19.154709</td>\n",
       "      <td>13.100577</td>\n",
       "    </tr>\n",
       "    <tr>\n",
       "      <th>最低價日期</th>\n",
       "      <td>2023-01-03</td>\n",
       "      <td>2023-03-20</td>\n",
       "      <td>2023-03-17</td>\n",
       "      <td>2023-01-03</td>\n",
       "    </tr>\n",
       "    <tr>\n",
       "      <th>最高價日期</th>\n",
       "      <td>2023-08-01</td>\n",
       "      <td>2023-08-01</td>\n",
       "      <td>2023-12-14</td>\n",
       "      <td>2023-07-26</td>\n",
       "    </tr>\n",
       "  </tbody>\n",
       "</table>\n",
       "</div>"
      ],
      "text/plain": [
       "              國泰金         新光金         中信金         台新金\n",
       "最高價     45.648304        9.83   27.176025   17.105072\n",
       "最低價      37.80899        7.99   19.154709   13.100577\n",
       "最低價日期  2023-01-03  2023-03-20  2023-03-17  2023-01-03\n",
       "最高價日期  2023-08-01  2023-08-01  2023-12-14  2023-07-26"
      ]
     },
     "execution_count": 45,
     "metadata": {},
     "output_type": "execute_result"
    }
   ],
   "source": [
    "df_total = pd.concat([df_high_low_value, df_low_date, df_high_date], ignore_index=False)\n",
    "df_total"
   ]
  }
 ],
 "metadata": {
  "kernelspec": {
   "display_name": "Python 3",
   "language": "python",
   "name": "python3"
  },
  "language_info": {
   "codemirror_mode": {
    "name": "ipython",
    "version": 3
   },
   "file_extension": ".py",
   "mimetype": "text/x-python",
   "name": "python",
   "nbconvert_exporter": "python",
   "pygments_lexer": "ipython3",
   "version": "3.11.9"
  }
 },
 "nbformat": 4,
 "nbformat_minor": 2
}
