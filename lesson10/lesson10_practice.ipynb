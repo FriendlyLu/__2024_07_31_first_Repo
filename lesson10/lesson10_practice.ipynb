{
 "cells": [
  {
   "cell_type": "code",
   "execution_count": null,
   "metadata": {},
   "outputs": [],
   "source": [
    "import csv\n",
    "from pprint import pprint\n",
    "with open('歷年國內主要觀光遊憩據點遊客人數月別統計.csv',encoding='utf-8',newline='') as file:\n",
    "    #content = file.read()\n",
    "    dictReader = csv.DictReader(file)\n",
    "    contents:list = list(dictReader)\n",
    "\n",
    "pprint(contents) #Nested Lists"
   ]
  },
  {
   "cell_type": "code",
   "execution_count": null,
   "metadata": {},
   "outputs": [],
   "source": [
    "import csv\n",
    "from pprint import pprint\n",
    "with open('abc.csv',encoding='utf-8',newline='') as file:\n",
    "    #content = file.read()\n",
    "    dictReader = csv.DictReader(file)\n",
    "    contents:list = list(dictReader)\n",
    "\n",
    "pprint(contents) #List of Dictionarys"
   ]
  },
  {
   "cell_type": "code",
   "execution_count": null,
   "metadata": {},
   "outputs": [],
   "source": [
    "for item in contents:\n",
    "    if '玉山國家公園' in item['觀光遊憩區']:\n",
    "        print(item)"
   ]
  },
  {
   "cell_type": "code",
   "execution_count": null,
   "metadata": {},
   "outputs": [],
   "source": [
    "searchs:list = []\n",
    "for item in contents:\n",
    "    if '玉山國家公園' in item['觀光遊憩區']:\n",
    "        searchs.append(item)\n",
    "\n",
    "pprint(searchs)"
   ]
  },
  {
   "cell_type": "code",
   "execution_count": null,
   "metadata": {},
   "outputs": [],
   "source": [
    "searchs:list = []\n",
    "for item in contents:\n",
    "    if '玉山國家公園' in item['觀光遊憩區']:\n",
    "        searchs.append(item)\n",
    "\n",
    "keys:list[str] = list(searchs[0].keys())\n",
    "keys"
   ]
  },
  {
   "cell_type": "code",
   "execution_count": 9,
   "metadata": {},
   "outputs": [],
   "source": [
    "with open('玉山國家公園.csv',mode='w',encoding='utf-8',newline='') as file:\n",
    "    dictWriter = csv.DictWriter(file,keys)\n",
    "    dictWriter.writeheader()\n",
    "    dictWriter.writerows(searchs)"
   ]
  }
 ],
 "metadata": {
  "kernelspec": {
   "display_name": "Python 3",
   "language": "python",
   "name": "python3"
  },
  "language_info": {
   "codemirror_mode": {
    "name": "ipython",
    "version": 3
   },
   "file_extension": ".py",
   "mimetype": "text/x-python",
   "name": "python",
   "nbconvert_exporter": "python",
   "pygments_lexer": "ipython3",
   "version": "3.11.9"
  }
 },
 "nbformat": 4,
 "nbformat_minor": 2
}
