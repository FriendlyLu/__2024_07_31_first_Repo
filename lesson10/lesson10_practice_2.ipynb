{
 "cells": [
  {
   "cell_type": "code",
   "execution_count": 2,
   "metadata": {},
   "outputs": [],
   "source": [
    "import csv\n",
    "from pprint import pprint\n",
    "\n",
    "#open .csv file\n",
    "with open('歷年國內主要觀光遊憩據點遊客人數月別統計.csv',encoding='utf-8',newline='') as file:\n",
    "    dictReader = csv.DictReader(file)\n",
    "    contents:list = list(dictReader)\n",
    "\n",
    "forInItem = {'觀光遊憩區': '玉山國家公園', '縣市別': '南投縣'}\n",
    "\n",
    "# Loop to forInItem\n",
    "for key in forInItem:\n",
    "    # Find list of dictionary\n",
    "    searchs:list = []\n",
    "    for item in contents:\n",
    "        if forInItem[key] in item[key]:\n",
    "            searchs.append(item)\n",
    "\n",
    "    # Find keys of the dictionary\n",
    "    keys:list[str] = list(searchs[0].keys())\n",
    "\n",
    "    # Save the .csv file\n",
    "    with open(f'{forInItem[key]}.csv',mode='w',encoding='utf-8',newline='') as file:\n",
    "        dictWriter = csv.DictWriter(file, keys)\n",
    "        dictWriter.writeheader()\n",
    "        dictWriter.writerows(searchs)\n",
    "\n"
   ]
  }
 ],
 "metadata": {
  "kernelspec": {
   "display_name": "Python 3",
   "language": "python",
   "name": "python3"
  },
  "language_info": {
   "codemirror_mode": {
    "name": "ipython",
    "version": 3
   },
   "file_extension": ".py",
   "mimetype": "text/x-python",
   "name": "python",
   "nbconvert_exporter": "python",
   "pygments_lexer": "ipython3",
   "version": "3.11.9"
  }
 },
 "nbformat": 4,
 "nbformat_minor": 2
}
