{
 "cells": [
  {
   "cell_type": "code",
   "execution_count": 33,
   "metadata": {},
   "outputs": [
    {
     "name": "stderr",
     "output_type": "stream",
     "text": [
      "[*********************100%***********************]  1 of 1 completed\n",
      "[*********************100%***********************]  1 of 1 completed\n",
      "[*********************100%***********************]  1 of 1 completed\n",
      "[*********************100%***********************]  1 of 1 completed\n"
     ]
    },
    {
     "data": {
      "text/html": [
       "<div>\n",
       "<style scoped>\n",
       "    .dataframe tbody tr th:only-of-type {\n",
       "        vertical-align: middle;\n",
       "    }\n",
       "\n",
       "    .dataframe tbody tr th {\n",
       "        vertical-align: top;\n",
       "    }\n",
       "\n",
       "    .dataframe thead th {\n",
       "        text-align: right;\n",
       "    }\n",
       "</style>\n",
       "<table border=\"1\" class=\"dataframe\">\n",
       "  <thead>\n",
       "    <tr style=\"text-align: right;\">\n",
       "      <th></th>\n",
       "      <th>國泰金</th>\n",
       "      <th>新光金</th>\n",
       "      <th>中信金</th>\n",
       "      <th>台新金</th>\n",
       "    </tr>\n",
       "  </thead>\n",
       "  <tbody>\n",
       "    <tr>\n",
       "      <th>國泰金</th>\n",
       "      <td>1.000000</td>\n",
       "      <td>0.611739</td>\n",
       "      <td>0.560722</td>\n",
       "      <td>0.549925</td>\n",
       "    </tr>\n",
       "    <tr>\n",
       "      <th>新光金</th>\n",
       "      <td>0.611739</td>\n",
       "      <td>1.000000</td>\n",
       "      <td>0.396487</td>\n",
       "      <td>0.410888</td>\n",
       "    </tr>\n",
       "    <tr>\n",
       "      <th>中信金</th>\n",
       "      <td>0.560722</td>\n",
       "      <td>0.396487</td>\n",
       "      <td>1.000000</td>\n",
       "      <td>0.518583</td>\n",
       "    </tr>\n",
       "    <tr>\n",
       "      <th>台新金</th>\n",
       "      <td>0.549925</td>\n",
       "      <td>0.410888</td>\n",
       "      <td>0.518583</td>\n",
       "      <td>1.000000</td>\n",
       "    </tr>\n",
       "  </tbody>\n",
       "</table>\n",
       "</div>"
      ],
      "text/plain": [
       "          國泰金       新光金       中信金       台新金\n",
       "國泰金  1.000000  0.611739  0.560722  0.549925\n",
       "新光金  0.611739  1.000000  0.396487  0.410888\n",
       "中信金  0.560722  0.396487  1.000000  0.518583\n",
       "台新金  0.549925  0.410888  0.518583  1.000000"
      ]
     },
     "execution_count": 33,
     "metadata": {},
     "output_type": "execute_result"
    }
   ],
   "source": [
    "import yfinance as yf\n",
    "import pandas as pd\n",
    "\n",
    "#國泰金(2882.TW),新光金(2888.TW),中信金(2891.TW),台新金(2887.TW)\n",
    "all_data = {ticker:yf.download(ticker) for ticker in ['2882.TW','2888.TW','2891.TW','2887.TW']}\n",
    "\n",
    "all_data1 = {ticker:df['Adj Close'] for ticker,df in all_data.items()}\n",
    "prices_df = pd.DataFrame(all_data1)\n",
    "\n",
    "prices_df.columns = ['國泰金','新光金','中信金','台新金']\n",
    "prices_df1 = prices_df.dropna()\n",
    "prices_df1_2023 = prices_df1.loc['2023']\n",
    "\n",
    "#平均差\n",
    "prices_df1_2023_avg_diff = prices_df1_2023.pct_change()\n",
    "prices_df1_2023_avg_diff.dropna()\n",
    "\n",
    "#每日差\n",
    "prices_df1_2023_day_diff = prices_df1_2023 - prices_df1_2023.shift(1)\n",
    "prices_df1_2023_day_diff.dropna()\n",
    "\n",
    "#相關係數\n",
    "prices_df1_2023_avg_diff.corr()\n"
   ]
  }
 ],
 "metadata": {
  "kernelspec": {
   "display_name": "Python 3",
   "language": "python",
   "name": "python3"
  },
  "language_info": {
   "codemirror_mode": {
    "name": "ipython",
    "version": 3
   },
   "file_extension": ".py",
   "mimetype": "text/x-python",
   "name": "python",
   "nbconvert_exporter": "python",
   "pygments_lexer": "ipython3",
   "version": "3.11.9"
  }
 },
 "nbformat": 4,
 "nbformat_minor": 2
}
