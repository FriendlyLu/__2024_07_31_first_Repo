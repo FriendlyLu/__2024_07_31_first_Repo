{
 "cells": [
  {
   "cell_type": "code",
   "execution_count": 9,
   "metadata": {},
   "outputs": [
    {
     "name": "stdout",
     "output_type": "stream",
     "text": [
      "2.5台斤 = 1.5公斤\n"
     ]
    }
   ],
   "source": [
    "weight_Tai_float = float(input(\"請輸入台斤: \"))\n",
    "weight_Tai_float\n",
    "\n",
    "#print(str(weight_Tai_float) + \"台斤 = \" + str(0.6 * weight_Tai_float) + \"公斤\" )\n",
    "print(f\"{weight_Tai_float}台斤 = {0.6 * weight_Tai_float}公斤\") #字串差補"
   ]
  }
 ],
 "metadata": {
  "kernelspec": {
   "display_name": "Python 3",
   "language": "python",
   "name": "python3"
  },
  "language_info": {
   "codemirror_mode": {
    "name": "ipython",
    "version": 3
   },
   "file_extension": ".py",
   "mimetype": "text/x-python",
   "name": "python",
   "nbconvert_exporter": "python",
   "pygments_lexer": "ipython3",
   "version": "3.11.9"
  }
 },
 "nbformat": 4,
 "nbformat_minor": 2
}
