{
 "cells": [
  {
   "cell_type": "code",
   "execution_count": 21,
   "metadata": {},
   "outputs": [
    {
     "name": "stdout",
     "output_type": "stream",
     "text": [
      "AAA您好:\n",
      "您的 BMI 值為: 22.59\n"
     ]
    }
   ],
   "source": [
    "#weight_Tai_float = float(input(\"請輸入台斤: \"))\n",
    "#weight_Tai_float\n",
    "\n",
    "#print(str(weight_Tai_float) + \"台斤 = \" + str(0.6 * weight_Tai_float) + \"公斤\" )\n",
    "#print(f\"{weight_Tai_float}台斤 = {0.6 * weight_Tai_float}公斤\") #字串差補\n",
    "\n",
    "\n",
    "name = input(\"請輸入姓名: \")\n",
    "height = float(input(\"請輸入身高:\"))\n",
    "weight = float(input(\"請輸入體重:\"))\n",
    "\n",
    "print(f\"{name}您好:\")\n",
    "print(f\"您的 BMI 值為: {round(weight / (height*0.01)**2, ndigits=2)}\")"
   ]
  },
  {
   "cell_type": "code",
   "execution_count": null,
   "metadata": {},
   "outputs": [],
   "source": [
    "\n"
   ]
  }
 ],
 "metadata": {
  "kernelspec": {
   "display_name": "Python 3",
   "language": "python",
   "name": "python3"
  },
  "language_info": {
   "codemirror_mode": {
    "name": "ipython",
    "version": 3
   },
   "file_extension": ".py",
   "mimetype": "text/x-python",
   "name": "python",
   "nbconvert_exporter": "python",
   "pygments_lexer": "ipython3",
   "version": "3.11.9"
  }
 },
 "nbformat": 4,
 "nbformat_minor": 2
}
